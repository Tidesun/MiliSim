{
 "cells": [
  {
   "cell_type": "code",
   "execution_count": 2,
   "id": "41601130",
   "metadata": {},
   "outputs": [],
   "source": [
    "import pysam"
   ]
  },
  {
   "cell_type": "code",
   "execution_count": 7,
   "id": "e20896ef",
   "metadata": {},
   "outputs": [],
   "source": [
    "cDNA_path = '/fs/project/PCON0009/Au-scratch2/haoran/reference/genecode/gencode.v38.transcripts.fa'\n",
    "reference_transcriptome = pysam.FastaFile(cDNA_path)\n",
    "isoform_length_dict = {}\n",
    "isoform_name_mapping = {}"
   ]
  },
  {
   "cell_type": "code",
   "execution_count": 8,
   "id": "e4682108",
   "metadata": {},
   "outputs": [],
   "source": [
    "for isoform_name,isoform_length in zip(reference_transcriptome.references,reference_transcriptome.lengths):\n",
    "    isoform_name_mapping[isoform_name.split('|')[0]] = isoform_name\n",
    "    isoform_length_dict[isoform_name.split('|')[0]] = isoform_length"
   ]
  },
  {
   "cell_type": "code",
   "execution_count": 10,
   "id": "28672c0e",
   "metadata": {},
   "outputs": [
    {
     "data": {
      "text/plain": [
       "1657"
      ]
     },
     "execution_count": 10,
     "metadata": {},
     "output_type": "execute_result"
    }
   ],
   "source": [
    "isoform_length_dict['ENST00000456328.2']"
   ]
  },
  {
   "cell_type": "code",
   "execution_count": 1,
   "id": "2e95c239",
   "metadata": {},
   "outputs": [
    {
     "name": "stdout",
     "output_type": "stream",
     "text": [
      "Using 3 threads\n"
     ]
    }
   ],
   "source": [
    "import argparse\n",
    "parser = argparse.ArgumentParser(description=\"Simulate reads with kde model\",add_help=True)\n",
    "requiredNamed = parser.add_argument_group('required named arguments')\n",
    "requiredNamed.add_argument('--kde_model_path', type=str, help=\"Path of KDE model\",required=True)\n",
    "requiredNamed.add_argument('--insertion_rate', type=float,default=0.01, help=\"Insertion rate\",required=False)\n",
    "requiredNamed.add_argument('--deletion_rate', type=float,default=0.01, help=\"Deletion rate\",required=False)\n",
    "requiredNamed.add_argument('--substitution_rate', type=float,default=0.01, help=\"Substitution rate\",required=False)\n",
    "requiredNamed.add_argument('--coord_error_in_5_end', type=float,default=0.05, help=\"Coord randomness in 5' end\",required=False)\n",
    "requiredNamed.add_argument('--coord_error_in_3_end', type=float,default=0.05, help=\"Coord randomness in 3' end\",required=False)\n",
    "requiredNamed.add_argument('-expr','--expression_profile', type=str, help=\"Expression profile\",required=True)\n",
    "requiredNamed.add_argument('-cdna','--reference_transcriptome', type=str, help=\"Reference transcriptome\",required=True)\n",
    "requiredNamed.add_argument('-gtf','--reference_annotation', type=str, help=\"Reference annnotation\",required=True)\n",
    "requiredNamed.add_argument('-prot','--library_protocol', type=str, default='direct_RNA',help=\"Library protocol\",required=False)\n",
    "requiredNamed.add_argument('--num_reads', type=int, help=\"The number of simulated reads\",required=True)\n",
    "requiredNamed.add_argument('-t','--threads', type=int, help=\"Threads\",required=False)\n",
    "requiredNamed.add_argument('-o','--output', type=str, help=\"The path of output simulated reads\",required=True)\n",
    "args = parser.parse_args()\n",
    "error_rate_5_end = args.coord_error_in_5_end\n",
    "error_rate_3_end = args.coord_error_in_3_end\n",
    "insertion_rate = args.insertion_rate\n",
    "deletion_rate = args.deletion_rate\n",
    "substitution_rate = args.substitution_rate\n",
    "num_reads = args.num_reads\n",
    "expression_profile = args.expression_profile\n",
    "import dill as pickle\n",
    "import numpy as np\n",
    "import sys\n",
    "# from tqdm import tqdm\n",
    "import os\n",
    "ref_file_path = args.reference_annotation\n",
    "# ref_file_path = '/fs/project/PCON0009/Au-scratch2/haoran/reference/genecode/gencode.v38.annotation.gtf'\n",
    "# READ_LEN=0\n",
    "# READ_JUNC_MIN_MAP_LEN= 1\n",
    "# short_read_alignment_file_path = None\n",
    "if args.threads is None:\n",
    "    threads = len(os.sched_getaffinity(0))\n",
    "else:\n",
    "    threads = args.threads\n",
    "# threads = 3\n",
    "# [gene_exons_dict,gene_points_dict, gene_isoforms_dict,_,\n",
    "#             _, gene_regions_dict, gene_isoforms_length_dict,_,_,_] = parse_annotation(ref_file_path,threads)\n",
    "import re"
   ]
  },
  {
   "cell_type": "code",
   "execution_count": 31,
   "id": "04e68571",
   "metadata": {},
   "outputs": [],
   "source": [
    "import pysam\n",
    "from Bio.Seq import Seq"
   ]
  },
  {
   "cell_type": "code",
   "execution_count": 114,
   "id": "b93aea19",
   "metadata": {},
   "outputs": [],
   "source": [
    "cDNA_path = '/fs/project/PCON0009/Au-scratch2/haoran/reference/genecode/gencode.v38.transcripts.fa'\n",
    "insertion_rate = 0.01\n",
    "deletion_rate = 0.01\n",
    "substitution_rate = 0.01\n",
    "error_rate_5_end = 0.05\n",
    "error_rate_3_end = 0.05"
   ]
  },
  {
   "cell_type": "code",
   "execution_count": 108,
   "id": "3e6c026d",
   "metadata": {},
   "outputs": [],
   "source": [
    "strand_dict = {}\n",
    "isoform_length_dict = {}\n",
    "with open(ref_file_path,'r') as f:\n",
    "    for line in f:\n",
    "        if line.lstrip()[0] == \"#\":\n",
    "            continue\n",
    "        fields = line.split('\\t')\n",
    "        if (fields[2] != 'exon'):\n",
    "            continue\n",
    "        strand = fields[6]\n",
    "        gene_name = re.findall('gene_id \"([^\"]*)\"', fields[8])[0]\n",
    "        chr_name = fields[0]\n",
    "        isoform_name = re.findall('transcript_id \"([^\"]*)\"', fields[8])[0]\n",
    "        strand_dict[isoform_name] = strand\n",
    "        start_pos = int(fields[3])\n",
    "        end_pos = int(fields[4])\n",
    "        if isoform_name not in isoform_length_dict:\n",
    "            isoform_length_dict[isoform_name] = 0\n",
    "        isoform_length_dict[isoform_name] += end_pos - start_pos + 1\n",
    "        "
   ]
  },
  {
   "cell_type": "code",
   "execution_count": 24,
   "id": "a355e41a",
   "metadata": {},
   "outputs": [],
   "source": [
    "isoform_name_mapping = {}\n",
    "for isoform_name in reference_transcriptome.references:\n",
    "    isoform_name_mapping[isoform_name.split('|')[0]] = isoform_name"
   ]
  },
  {
   "cell_type": "code",
   "execution_count": 8,
   "id": "47d5d805",
   "metadata": {},
   "outputs": [],
   "source": [
    "def extract_error_rate(err_sub,err_ins,err_del):\n",
    "    error_type = [\"no\",\"sub\",\"ins\",\"del\"]\n",
    "    error_prob = [(1.0-(err_sub + err_ins + err_del)),err_sub,err_ins,err_del]\n",
    "    return error_type,error_prob\n",
    "def mutate_read(read_seq,error_type,error_prob):\n",
    "    read_seq = read_seq.upper()\n",
    "    dic_error_no = {\"A\":\"A\",\"C\":\"C\",\"G\":\"G\",\"T\":\"T\"}\n",
    "    dic_error_sub = {\"A\":np.random.choice([\"C\",\"G\",\"T\"]),\"C\":np.random.choice([\"A\",\"G\",\"T\"]),\"G\":np.random.choice([\"A\",\"C\",\"T\"]),\"T\":np.random.choice([\"A\",\"C\",\"G\"])}\n",
    "    dic_error_ins = {\"A\":\"A\"+np.random.choice([\"A\",\"C\",\"G\",\"T\"]),\"C\":\"C\"+np.random.choice([\"A\",\"C\",\"G\",\"T\"]),\"G\":\"G\"+np.random.choice([\"A\",\"C\",\"G\",\"T\"]),\"T\":\"T\"+np.random.choice([\"A\",\"C\",\"G\",\"T\"])}\n",
    "    dic_error_del = {\"A\":\"\",\"C\":\"\",\"G\":\"\",\"T\":\"\"}\n",
    "\n",
    "    dic_error = {\"no\":dic_error_no,\"sub\":dic_error_sub,\"ins\":dic_error_ins,\"del\":dic_error_del}\n",
    "    read_seq_new = \"\"\n",
    "    for nuc in read_seq:\n",
    "        nuc_new = dic_error[np.random.choice(error_type,p=error_prob)][nuc]\n",
    "        read_seq_new += nuc_new\n",
    "    return read_seq_new"
   ]
  },
  {
   "cell_type": "code",
   "execution_count": 160,
   "id": "a203f9dd",
   "metadata": {},
   "outputs": [],
   "source": [
    "import random\n",
    "def get_start_end_kde(kde, num):\n",
    "    return kde.sample(num)\n",
    "def select_nearest_kde3d(sampled_3d, isoform_len):\n",
    "    fc = sampled_3d[:, 0]\n",
    "    dist = np.abs(fc - isoform_len)\n",
    "    indices = np.where(dist == dist.min())[0]\n",
    "    idx = np.random.choice(indices, 1)[0]\n",
    "    return int(sampled_3d[idx][1]),int(sampled_3d[idx][2])\n",
    "def randomize_offset(ref_5_end_offset,ref_3_end_offset,error_rate_5_end,error_rate_3_end,isoform_len):\n",
    "    MIN_READ_LEN = 15\n",
    "    while True:\n",
    "        new_ref_5_end_offset = ref_5_end_offset + int(np.round((random.random() - 0.5) * error_rate_5_end * isoform_len))\n",
    "        new_ref_3_end_offset = ref_3_end_offset + int(np.round((random.random() - 0.5) * error_rate_3_end * isoform_len))\n",
    "        if new_ref_5_end_offset < 0 or new_ref_3_end_offset < 0:\n",
    "            continue\n",
    "        if new_ref_5_end_offset + new_ref_3_end_offset + MIN_READ_LEN >= isoform_len:\n",
    "            continue\n",
    "        return new_ref_5_end_offset,new_ref_3_end_offset\n",
    "def get_sequence(start,end,isoform_name,reference_transcriptome,error_type,error_prob,original_isoform_name):\n",
    "    sequence = Seq(reference_transcriptome.fetch(original_isoform_name,start - 1,end)).upper()\n",
    "    mutated_sequence = mutate_read(str(sequence),error_type,error_prob)\n",
    "    return mutated_sequence\n",
    "def simulated_reads_for_isoform(kde,reference_transcriptome,error_type,error_prob,args):\n",
    "    num_reads,ref_trx,ref_trx_len,strand,original_isoform_name = args\n",
    "    output_str = ''\n",
    "    \n",
    "    for i in range(num_reads):\n",
    "        sampled_3d = get_start_end_kde(kde, 100000)\n",
    "        if strand == '+':\n",
    "            ref_start_offset,ref_end_offset = select_nearest_kde3d(sampled_3d, ref_trx_len)\n",
    "            ref_start_offset,ref_end_offset = randomize_offset(ref_start_offset,ref_end_offset,error_rate_5_end,error_rate_3_end,ref_trx_len)\n",
    "        else:\n",
    "            ref_end_offset,ref_start_offset = select_nearest_kde3d(sampled_3d, ref_trx_len)\n",
    "            ref_end_offset,ref_start_offset = randomize_offset(ref_end_offset,ref_start_offset,error_rate_5_end,error_rate_3_end,ref_trx_len)\n",
    "        # 1 based coord\n",
    "        ref_start_pos,ref_end_pos = ref_start_offset + 1,ref_trx_len - ref_end_offset\n",
    "\n",
    "        if ref_start_pos < 0 or ref_end_pos < ref_start_pos:\n",
    "            continue\n",
    "        output_ref_trx = ref_trx.split('.')[0]\n",
    "        output_ref_start_pos = ref_start_pos - 1\n",
    "        read_len = ref_end_pos - ref_start_pos + 1\n",
    "        if strand == '+':\n",
    "            direction = 'F'\n",
    "        else:\n",
    "            direction = 'R'\n",
    "        read_name = f'>{output_ref_trx}_{output_ref_start_pos}_aligned_{i}_{direction}_{ref_end_pos}_{read_len}_{i}'\n",
    "        try:\n",
    "            read_sequence = get_sequence(ref_start_pos,ref_end_pos,ref_trx,reference_transcriptome,error_type,error_prob,original_isoform_name)\n",
    "        except Exception as e:\n",
    "            print(e)\n",
    "            break\n",
    "        fasta_lines = read_name + '\\n' + read_sequence + '\\n'\n",
    "        output_str += fasta_lines\n",
    "    return output_str"
   ]
  },
  {
   "cell_type": "code",
   "execution_count": 48,
   "id": "4a1467fa",
   "metadata": {},
   "outputs": [],
   "source": [
    "from pathlib import Path\n",
    "import pandas as pd"
   ]
  },
  {
   "cell_type": "code",
   "execution_count": 161,
   "id": "de5b9c85",
   "metadata": {},
   "outputs": [],
   "source": [
    "def submit_worker(output_dir,kde_model_path,cDNA_path,error_type,error_prob,list_of_args,worker_id):\n",
    "    buffer_size = 1024 * 1024 * 1024\n",
    "    output_str = ''\n",
    "    temp_dir = f'{output_dir}/temp/'\n",
    "    Path(temp_dir).mkdir(exist_ok=True,parents=True)\n",
    "    reference_transcriptome = pysam.FastaFile(cDNA_path)\n",
    "    with open(kde_model_path,'rb') as f:\n",
    "        kde = pickle.load(f)\n",
    "#     num_reads = isoform_num_reads_dict[ref_trx]\n",
    "    with open(f'{output_dir}/temp/simulated_reads_{worker_id}.fasta','w') as f:\n",
    "        for args in list_of_args:\n",
    "            isoform_output_str = simulated_reads_for_isoform(kde,reference_transcriptome,error_type,error_prob,args)\n",
    "            output_str += isoform_output_str\n",
    "            if len(output_str.encode('utf-8')) > buffer_size:\n",
    "                f.write(output_str)\n",
    "                output_str = ''\n",
    "        if output_str != '':\n",
    "            f.write(output_str)\n",
    "def submit_worker_helper(args):\n",
    "    output_dir,kde_model_path,cDNA_path,error_type,error_prob,list_of_args,worker_id = args\n",
    "    submit_worker(output_dir,kde_model_path,cDNA_path,error_type,error_prob,list_of_args,worker_id)\n",
    "    return worker_id\n",
    "            \n",
    "#     results = []\n",
    "#     all_gene_weight_dict = {}\n",
    "#     for args in list_of_args[cstart:cstop]:\n",
    "#         rname,gname,_,_ = args\n",
    "#         if rname not in all_gene_weight_dict:\n",
    "#             all_gene_weight_dict[rname] = {}\n",
    "#         all_gene_weight_dict[rname][gname] = worker(args)"
   ]
  },
  {
   "cell_type": "code",
   "execution_count": 11,
   "id": "3904a48f",
   "metadata": {},
   "outputs": [],
   "source": [
    "error_type,error_prob = extract_error_rate(substitution_rate,insertion_rate,deletion_rate)"
   ]
  },
  {
   "cell_type": "code",
   "execution_count": 15,
   "id": "ff3219e2",
   "metadata": {},
   "outputs": [],
   "source": [
    "kde_model_path = 'models/kde_dRNA'"
   ]
  },
  {
   "cell_type": "code",
   "execution_count": 16,
   "id": "4fc0d9a8",
   "metadata": {},
   "outputs": [],
   "source": [
    "# # rname,gname,kde_model_path,num_reads_each_isoform = args\n",
    "# rname,gname = '1','ENSG00000182749.6'\n",
    "# isoform_num_reads_dict = {}\n",
    "# for isoform in gene_isoforms_length_dict[rname][gname]:\n",
    "#     isoform_num_reads_dict[isoform] = 100\n",
    "# with open(kde_model_path,'rb') as f:\n",
    "#     kde_model = pickle.load(f)\n"
   ]
  },
  {
   "cell_type": "code",
   "execution_count": 196,
   "id": "75c29777",
   "metadata": {},
   "outputs": [],
   "source": [
    "num_reads = 10000\n",
    "expression_profile = '/fs/ess/scratch/PCON0009/dingjie/polyester_simulation/Real_data_simulation/1_ground_truth/ground_truth/GM12878_rep1.tsv'"
   ]
  },
  {
   "cell_type": "code",
   "execution_count": 52,
   "id": "350a67b6",
   "metadata": {},
   "outputs": [],
   "source": []
  },
  {
   "cell_type": "code",
   "execution_count": 197,
   "id": "be7f1c08",
   "metadata": {},
   "outputs": [],
   "source": [
    "def sample_reads(sampling_rates,total_num_reads,variance=False,no_sampling=False):\n",
    "    if no_sampling:\n",
    "        read_counts = np.around(sampling_rates* total_num_reads).astype(int)\n",
    "        read_counts[read_counts<0] = 0\n",
    "        return read_counts\n",
    "    if variance:\n",
    "        variance_sampling_rates = sampling_rates + 0.25 * sampling_rates * np.random.normal(0, 1.0, sampling_rates.shape[0])\n",
    "        variance_sampling_rates[variance_sampling_rates<0] = 0\n",
    "        variance_sampling_rates = variance_sampling_rates/variance_sampling_rates.sum()\n",
    "        return np.random.multinomial(total_num_reads, variance_sampling_rates)\n",
    "    else:\n",
    "        return np.random.multinomial(total_num_reads, sampling_rates)"
   ]
  },
  {
   "cell_type": "code",
   "execution_count": 198,
   "id": "d702b58f",
   "metadata": {},
   "outputs": [],
   "source": [
    "isoform_set = set(isoform_length_dict.keys())\n",
    "df = pd.read_csv(expression_profile,sep='\\t',skiprows=1,header=None)\n",
    "df.columns = ['target_id','est_counts','tpm']\n",
    "df = df.set_index('target_id')\n",
    "isoform_expr_index = df.index.intersection(isoform_set)\n",
    "if len(isoform_expr_index) < len(df.index):\n",
    "    error_set = set(df.index)-set(isoform_expr_index)\n",
    "    print(f'Isoforms {error_set} in the expression profile does not exists in the reference annotation!')\n",
    "df = df.loc[isoform_expr_index]\n",
    "df['sampling_rates'] = df['tpm']/df['tpm'].sum()\n",
    "df['Read_count'] = sample_reads(df['sampling_rates'].values,num_reads)\n",
    "df.index.name = 'target_id'\n",
    "df = df.sort_values('Read_count',ascending=False).reset_index()\n",
    "df['Worker_id'] = df.index.map(lambda x:x%threads)\n",
    "df = df.sort_values(by='Worker_id').set_index('target_id')\n",
    "isoform_num_reads_dict = df['Read_count'].to_dict()"
   ]
  },
  {
   "cell_type": "code",
   "execution_count": 199,
   "id": "21760411",
   "metadata": {},
   "outputs": [],
   "source": [
    "list_of_args = []\n",
    "for isoform,num_reads in isoform_num_reads_dict.items():\n",
    "    if num_reads > 0:\n",
    "        strand = strand_dict[isoform]\n",
    "        original_isoform_name = isoform_name_mapping[isoform]\n",
    "        isoform_len = isoform_length_dict[isoform]\n",
    "        args = num_reads,isoform,isoform_len,strand,original_isoform_name\n",
    "        list_of_args.append(args)\n",
    "# submit_worker(output_dir,kde_model_path,cDNA_path,error_type,error_prob,list_of_args,worker_id)"
   ]
  },
  {
   "cell_type": "code",
   "execution_count": 115,
   "id": "5efbc41b",
   "metadata": {},
   "outputs": [
    {
     "data": {
      "text/plain": [
       "'/fs/project/PCON0009/Au-scratch2/haoran/reference/genecode/gencode.v38.transcripts.fa'"
      ]
     },
     "execution_count": 115,
     "metadata": {},
     "output_type": "execute_result"
    }
   ],
   "source": [
    "cDNA_path"
   ]
  },
  {
   "cell_type": "code",
   "execution_count": 111,
   "id": "5ff1cd6d",
   "metadata": {},
   "outputs": [
    {
     "data": {
      "text/plain": [
       "'models/kde_dRNA'"
      ]
     },
     "execution_count": 111,
     "metadata": {},
     "output_type": "execute_result"
    }
   ],
   "source": [
    "kde_model_path"
   ]
  },
  {
   "cell_type": "code",
   "execution_count": 209,
   "id": "befde4ba",
   "metadata": {},
   "outputs": [],
   "source": [
    "output_dir = '/fs/ess/scratch/PCON0009/haoran/debug/outputs'"
   ]
  },
  {
   "cell_type": "code",
   "execution_count": 34,
   "id": "77c4b6a3",
   "metadata": {},
   "outputs": [],
   "source": [
    "# args = kde_model,isoform_num_reads_dict,gene_isoforms_length_dict,strand_dict,rname,gname,cDNA,error_type,error_prob,isoform_name_mapping\n",
    "# simulation_reads = simulated_reads_for_gene(args)"
   ]
  },
  {
   "cell_type": "code",
   "execution_count": 143,
   "id": "2b46d278",
   "metadata": {},
   "outputs": [],
   "source": [
    "# output_dir = './'\n",
    "# worker_id = 1\n",
    "# threads = 6"
   ]
  },
  {
   "cell_type": "code",
   "execution_count": 210,
   "id": "1f00b850",
   "metadata": {},
   "outputs": [],
   "source": [
    "import concurrent.futures"
   ]
  },
  {
   "cell_type": "code",
   "execution_count": null,
   "id": "1b26b8f7",
   "metadata": {},
   "outputs": [],
   "source": [
    "all_worker_id = []\n",
    "if threads > 1:\n",
    "    chunksize, extra = divmod(len(list_of_args), threads)\n",
    "    if extra:\n",
    "        chunksize += 1\n",
    "    with concurrent.futures.ProcessPoolExecutor(max_workers=threads) as executor:\n",
    "        futures = []\n",
    "        for i in range(threads - 1):\n",
    "            submit_args = output_dir,kde_model_path,cDNA_path,error_type,error_prob,list_of_args[i*chunksize:(i+1)*chunksize],i+1\n",
    "            futures.append(executor.submit(submit_worker_helper,submit_args))\n",
    "        submit_args = output_dir,kde_model_path,cDNA_path,error_type,error_prob,list_of_args[(threads-1)*chunksize:],threads\n",
    "        futures.append(executor.submit(submit_worker_helper,submit_args))\n",
    "        for fut in concurrent.futures.as_completed(futures):\n",
    "            worker_id = fut.result()\n",
    "            all_worker_id.append(worker_id)\n",
    "else:\n",
    "    submit_worker(output_dir,kde_model_path,cDNA_path,error_type,error_prob,list_of_args,1)\n",
    "    all_worker_id.append(1)\n",
    "    \n",
    "            \n",
    "#      for args in list_of_args:\n",
    "#             futures.append(executor.submit(worker,args))\n",
    "#         for fut in concurrent.futures.as_completed(futures):"
   ]
  },
  {
   "cell_type": "code",
   "execution_count": 204,
   "id": "a53526ad",
   "metadata": {},
   "outputs": [
    {
     "data": {
      "text/plain": [
       "[5, 3, 2, 1]"
      ]
     },
     "execution_count": 204,
     "metadata": {},
     "output_type": "execute_result"
    }
   ],
   "source": [
    "all_worker_id"
   ]
  },
  {
   "cell_type": "code",
   "execution_count": 205,
   "id": "6f611797",
   "metadata": {},
   "outputs": [],
   "source": [
    "import subprocess"
   ]
  },
  {
   "cell_type": "code",
   "execution_count": null,
   "id": "b30bfda3",
   "metadata": {},
   "outputs": [],
   "source": [
    "cmd = ' '.join([f'{output_dir}/temp/simulated_reads_{worker_id}.fasta' for worker_id in all_worker_id])\n",
    "subprocess.run(['cat '+ cmd,f'> {output_dir}/simulated_reads.fasta'])\n",
    "# subprocess.run(['rm','-r',f'{output_dir}/temp/'])"
   ]
  },
  {
   "cell_type": "code",
   "execution_count": 141,
   "id": "1867c7bc",
   "metadata": {},
   "outputs": [],
   "source": [
    "# submit_worker(output_dir,kde_model_path,cDNA_path,error_type,error_prob,list_of_args[:1],worker_id)"
   ]
  },
  {
   "cell_type": "code",
   "execution_count": null,
   "id": "9e484f25",
   "metadata": {},
   "outputs": [],
   "source": []
  }
 ],
 "metadata": {
  "kernelspec": {
   "display_name": "jupnb",
   "language": "python",
   "name": "jupnb"
  },
  "language_info": {
   "codemirror_mode": {
    "name": "ipython",
    "version": 3
   },
   "file_extension": ".py",
   "mimetype": "text/x-python",
   "name": "python",
   "nbconvert_exporter": "python",
   "pygments_lexer": "ipython3",
   "version": "3.6.13"
  }
 },
 "nbformat": 4,
 "nbformat_minor": 5
}
