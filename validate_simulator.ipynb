{
 "cells": [
  {
   "cell_type": "code",
   "execution_count": 1,
   "id": "780eeac5",
   "metadata": {},
   "outputs": [],
   "source": [
    "import pickle\n",
    "import sys\n",
    "sys.path.append(\"/fs/project/PCON0009/Au-scratch2/haoran/_projects/Mili_branch/assign_reads/isoform_quantification\")"
   ]
  },
  {
   "cell_type": "code",
   "execution_count": 2,
   "id": "06adb3a8",
   "metadata": {},
   "outputs": [],
   "source": [
    "from TransELS import parse,map_long_reads"
   ]
  },
  {
   "cell_type": "code",
   "execution_count": 3,
   "id": "a3a2cd0f",
   "metadata": {},
   "outputs": [],
   "source": [
    "# ref_file_path = '/fs/project/PCON0009/Au-scratch2/haoran/reference/genecode/gencode.v38.annotation.gtf'\n",
    "# READ_LEN = 0\n",
    "# READ_JUNC_MIN_MAP_LEN = 1\n",
    "# short_read_alignment_file_path = None\n",
    "# threads =1\n",
    "# _,gene_points_dict,gene_isoforms_dict,\\\n",
    "#         SR_gene_regions_dict,SR_genes_regions_len_dict,LR_gene_regions_dict,LR_genes_regions_len_dict,\\\n",
    "#             gene_isoforms_length_dict,raw_isoform_exons_dict,_,\\\n",
    "#                 same_structure_isoform_dict,removed_gene_isoform_dict,gene_range,gene_interval_tree_dict = \\\n",
    "#                     parse(ref_file_path,READ_LEN,READ_JUNC_MIN_MAP_LEN,short_read_alignment_file_path,threads)"
   ]
  },
  {
   "cell_type": "code",
   "execution_count": 4,
   "id": "7bb9b3f9",
   "metadata": {},
   "outputs": [],
   "source": [
    "# long_read_alignment_file_path = '/fs/ess/scratch/PCON0009/haoran/debug/reads/output.sam'\n",
    "# filtering = False\n",
    "# output_path = '/fs/ess/scratch/PCON0009/haoran/debug/reads/quant'\n",
    "# multi_mapping_filtering = None"
   ]
  },
  {
   "cell_type": "code",
   "execution_count": 5,
   "id": "6be158f0",
   "metadata": {},
   "outputs": [],
   "source": [
    "# gene_regions_read_mapping = map_long_reads(long_read_alignment_file_path,READ_LEN,READ_JUNC_MIN_MAP_LEN,gene_isoforms_dict,gene_points_dict,gene_range,gene_interval_tree_dict,LR_gene_regions_dict,LR_genes_regions_len_dict,gene_isoforms_length_dict,filtering,\\\n",
    "#                                            output_path,multi_mapping_filtering,threads,raw_isoform_exons_dict)"
   ]
  },
  {
   "cell_type": "code",
   "execution_count": 6,
   "id": "ea7bb1e8",
   "metadata": {},
   "outputs": [],
   "source": [
    "import re\n",
    "import pandas as pd\n",
    "import numpy as np\n",
    "annotation = '/fs/project/PCON0009/Au-scratch2/haoran/reference/genecode/gencode.v38.annotation.gtf'\n",
    "from TransELS import parse\n",
    "import glob"
   ]
  },
  {
   "cell_type": "code",
   "execution_count": 7,
   "id": "a8ca637e",
   "metadata": {},
   "outputs": [],
   "source": [
    "gene_exon_dict = {}\n",
    "gene_isoform_dict = {}\n",
    "isoform_exon_dict = {}\n",
    "strand_dict = {}\n",
    "with open(annotation,'r') as f:\n",
    "    for line in f:\n",
    "        if line.lstrip()[0] == \"#\":\n",
    "            continue\n",
    "        fields = line.split('\\t')\n",
    "        if (fields[2] != 'exon'):\n",
    "            continue\n",
    "        strand = fields[6]\n",
    "        chr_name = fields[0]\n",
    "        gene_name = re.findall('gene_id \"([^\"]*)\"', fields[8])[0]\n",
    "        isoform_name = re.findall('transcript_id \"([^\"]*)\"', fields[8])[0]\n",
    "        start_pos = int(fields[3])\n",
    "        end_pos = int(fields[4])\n",
    "        if gene_name not in gene_exon_dict:\n",
    "            gene_exon_dict[gene_name] = []\n",
    "            gene_isoform_dict[gene_name] = set()\n",
    "        if isoform_name not in isoform_exon_dict:\n",
    "            isoform_exon_dict[isoform_name] = []\n",
    "        gene_exon_dict[gene_name].append([start_pos,end_pos])\n",
    "        gene_isoform_dict[gene_name].add(isoform_name)\n",
    "        isoform_exon_dict[isoform_name].append([start_pos,end_pos])\n",
    "        strand_dict[gene_name] = strand\n",
    "for isoform in isoform_exon_dict:\n",
    "    isoform_exon_dict[isoform] = sorted(isoform_exon_dict[isoform],key=lambda x:(x[0],x[1]))\n",
    "isoform_len_dict = {}\n",
    "for isoform in isoform_exon_dict:\n",
    "    isoform_len_dict[isoform] = 0\n",
    "    for exon in isoform_exon_dict[isoform]:\n",
    "        isoform_len_dict[isoform] += exon[1] - exon[0] + 1\n",
    "singleton_genes = set()\n",
    "for gname in gene_isoform_dict:\n",
    "    if len(gene_isoform_dict[gname]) == 1:\n",
    "        singleton_genes.add(gname)"
   ]
  },
  {
   "cell_type": "code",
   "execution_count": 8,
   "id": "41617491",
   "metadata": {},
   "outputs": [],
   "source": [
    "from sklearn.neighbors import KernelDensity\n",
    "def kde3d(x, y,z):\n",
    "    x = np.array(x)\n",
    "    y = np.array(y)\n",
    "    z = np.array(z)\n",
    "    xyz = np.vstack([x, y,z])\n",
    "    d = xyz.shape[0]\n",
    "    n = xyz.shape[1]\n",
    "    bw = (n * (d + 2) / 4.) ** (-1. / (d + 4))  # silverman\n",
    "    kde_3d = KernelDensity(bandwidth=bw).fit(xyz.T)\n",
    "\n",
    "    return kde_3d"
   ]
  },
  {
   "cell_type": "code",
   "execution_count": 9,
   "id": "4c849dc1",
   "metadata": {},
   "outputs": [],
   "source": [
    "def get_singleton_gene_dist(gene_regions_read_mapping,singleton_genes):\n",
    "    singleton_genes_dist = []\n",
    "    for rname in gene_regions_read_mapping:\n",
    "        for gname in gene_regions_read_mapping[rname]:\n",
    "            if gname in singleton_genes:\n",
    "                for region in gene_regions_read_mapping[rname][gname]:\n",
    "                    for read_mapping in gene_regions_read_mapping[rname][gname][region]:\n",
    "                        read_start,read_end = read_mapping['read_pos']\n",
    "                        isoform = next(iter(gene_isoform_dict[gname]))\n",
    "                        isoform_len = isoform_len_dict[isoform]\n",
    "                        assert len(gene_isoform_dict[gene_name]) == 1\n",
    "                        start_offset = 0\n",
    "                        for [exon_start,exon_end] in isoform_exon_dict[isoform]:\n",
    "                            if exon_end > read_start:\n",
    "                                start_offset += read_start - exon_start + 1\n",
    "                                break\n",
    "                            else:\n",
    "                                start_offset += exon_end - exon_start + 1\n",
    "                        end_offset = isoform_len_dict[isoform] - start_offset - read_mapping['read_length']\n",
    "                        if start_offset < 0:\n",
    "                            start_offset = 0\n",
    "                        if end_offset < 0:\n",
    "                            end_offset = 0\n",
    "                        if strand_dict[gname]  == '+':\n",
    "                            singleton_genes_dist.append([isoform_len,start_offset,end_offset])\n",
    "                        else:\n",
    "                            singleton_genes_dist.append([isoform_len,end_offset,start_offset])\n",
    "    return singleton_genes_dist\n",
    "        \n"
   ]
  },
  {
   "cell_type": "code",
   "execution_count": 10,
   "id": "1b415f0b",
   "metadata": {},
   "outputs": [],
   "source": [
    "def get_multi_isoform_dist(gene_regions_read_mapping,LR_gene_regions_dict,singleton_genes):\n",
    "    multi_isoform_genes_dist = []\n",
    "    for rname in gene_regions_read_mapping:\n",
    "        for gname in gene_regions_read_mapping[rname]:\n",
    "            if gname not in singleton_genes:\n",
    "                for region in gene_regions_read_mapping[rname][gname]:\n",
    "                    if len(gene_regions_read_mapping[rname][gname][region]) == 0:\n",
    "                        continue\n",
    "                    if len(LR_gene_regions_dict[rname][gname][region]) == 1:\n",
    "                        isoform = next(iter(LR_gene_regions_dict[rname][gname][region]))\n",
    "                        if '-' in isoform:\n",
    "                            continue\n",
    "                        isoform_len = isoform_len_dict[isoform]\n",
    "                        for read_mapping in gene_regions_read_mapping[rname][gname][region]:\n",
    "                            read_start,read_end = read_mapping['read_pos']\n",
    "                            start_offset = 0\n",
    "                            for [exon_start,exon_end] in isoform_exon_dict[isoform]:\n",
    "                                if exon_end > read_start:\n",
    "                                    start_offset += read_start - exon_start + 1\n",
    "                                    break\n",
    "                                else:\n",
    "                                    start_offset += exon_end - exon_start + 1\n",
    "                            end_offset = isoform_len_dict[isoform] - start_offset - read_mapping['read_length']\n",
    "                            if start_offset < 0:\n",
    "                                start_offset = 0\n",
    "                            if end_offset < 0:\n",
    "                                end_offset = 0\n",
    "                            if strand_dict[gname]  == '+':\n",
    "                                multi_isoform_genes_dist.append([isoform_len,start_offset,end_offset])\n",
    "                            else:\n",
    "                                multi_isoform_genes_dist.append([isoform_len,end_offset,start_offset])\n",
    "    return multi_isoform_genes_dist"
   ]
  },
  {
   "cell_type": "code",
   "execution_count": 11,
   "id": "be1859ca",
   "metadata": {},
   "outputs": [],
   "source": [
    "fpath = '/fs/ess/scratch/PCON0009/haoran/debug/reads/quant/dict.pkl'\n",
    "with open(fpath,'rb') as f:\n",
    "    [gene_regions_read_mapping,_,LR_gene_regions_dict,_,_]= pickle.load(f)\n",
    "    singleton_genes_dist = get_singleton_gene_dist(gene_regions_read_mapping,singleton_genes)\n",
    "    multi_isoform_genes_dist = get_multi_isoform_dist(gene_regions_read_mapping,LR_gene_regions_dict,singleton_genes)\n"
   ]
  },
  {
   "cell_type": "code",
   "execution_count": 15,
   "id": "a35a66ab",
   "metadata": {},
   "outputs": [],
   "source": [
    "import matplotlib.pyplot as plt"
   ]
  },
  {
   "cell_type": "code",
   "execution_count": 76,
   "id": "deb5dff0",
   "metadata": {},
   "outputs": [
    {
     "data": {
      "text/plain": [
       "3228    53\n",
       "3765    52\n",
       "3794    46\n",
       "5012    29\n",
       "3020    26\n",
       "        ..\n",
       "3875     1\n",
       "5922     1\n",
       "3865     1\n",
       "3863     1\n",
       "6143     1\n",
       "Name: Isoform_len, Length: 1339, dtype: int64"
      ]
     },
     "execution_count": 76,
     "metadata": {},
     "output_type": "execute_result"
    }
   ],
   "source": [
    "dRNA_dist_df.loc[dRNA_dist_df['Isoform_len'] > 3000,'Isoform_len'].value_counts()"
   ]
  },
  {
   "cell_type": "code",
   "execution_count": 61,
   "id": "5d342cb3",
   "metadata": {},
   "outputs": [],
   "source": [
    "dRNA_dist_df = pd.DataFrame(singleton_genes_dist+multi_isoform_genes_dist)\n",
    "dRNA_dist_df.columns = ['Isoform_len','5_end_distance','3_end_distance']\n"
   ]
  },
  {
   "cell_type": "code",
   "execution_count": 45,
   "id": "b14857e6",
   "metadata": {},
   "outputs": [],
   "source": [
    "with open('/fs/project/PCON0009/Au-scratch2/haoran/_notebooks/singleton_analysis/all_samples/temp/all_dist.pkl','rb') as f:\n",
    "    dist_arr_dict = pickle.load(f)\n",
    "dRNA_dist_lst = []\n",
    "for name,dist_lst in dist_arr_dict.items():\n",
    "    if 'dRNA' in name:\n",
    "        dRNA_dist_lst += dist_lst\n",
    "dRNA_dist_arr = np.array(dRNA_dist_lst)"
   ]
  },
  {
   "cell_type": "code",
   "execution_count": 63,
   "id": "ca3296e7",
   "metadata": {},
   "outputs": [],
   "source": [
    "real_data_dRNA_dist_df = pd.DataFrame(dRNA_dist_arr)\n",
    "real_data_dRNA_dist_df.columns = ['Isoform_len','5_end_distance','3_end_distance']"
   ]
  },
  {
   "cell_type": "code",
   "execution_count": 65,
   "id": "348882d4",
   "metadata": {},
   "outputs": [],
   "source": [
    "selected_isoform_len = 462"
   ]
  },
  {
   "cell_type": "code",
   "execution_count": 66,
   "id": "191c3872",
   "metadata": {},
   "outputs": [
    {
     "data": {
      "image/png": "[encoded data removed]",
      "text/plain": [
       "<Figure size 432x288 with 1 Axes>"
      ]
     },
     "metadata": {
      "needs_background": "light"
     },
     "output_type": "display_data"
    }
   ],
   "source": [
    "plot_sim_dist_df = dRNA_dist_df[dRNA_dist_df['Isoform_len'] == selected_isoform_len]\n",
    "plot_sim_dist_df = plot_sim_dist_df.sort_values(by='5_end_distance')\n",
    "fig,ax = plt.subplots()\n",
    "ct = 0\n",
    "for _,row in plot_sim_dist_df.iterrows():\n",
    "    ax.hlines(y=ct, xmin=row['5_end_distance'], xmax= row['Isoform_len'] - row['3_end_distance'], linewidth=1, color='r')\n",
    "    ct += 1"
   ]
  },
  {
   "cell_type": "code",
   "execution_count": 64,
   "id": "e1a908f0",
   "metadata": {},
   "outputs": [
    {
     "data": {
      "image/png": "[encoded data removed]",
      "text/plain": [
       "<Figure size 432x288 with 1 Axes>"
      ]
     },
     "metadata": {
      "needs_background": "light"
     },
     "output_type": "display_data"
    }
   ],
   "source": [
    "plot_real_dist_df = real_data_dRNA_dist_df[real_data_dRNA_dist_df['Isoform_len'] == selected_isoform_len]\n",
    "plot_real_dist_df = plot_real_dist_df.sort_values(by='5_end_distance')\n",
    "fig,ax = plt.subplots()\n",
    "ct = 0\n",
    "for _,row in plot_real_dist_df.iterrows():\n",
    "    ax.hlines(y=ct, xmin=row['5_end_distance'], xmax= row['Isoform_len'] - row['3_end_distance'], linewidth=1, color='r')\n",
    "    ct += 1"
   ]
  },
  {
   "cell_type": "code",
   "execution_count": 67,
   "id": "364cf323",
   "metadata": {},
   "outputs": [],
   "source": [
    "selected_isoform_len = 943"
   ]
  },
  {
   "cell_type": "code",
   "execution_count": 68,
   "id": "021331d3",
   "metadata": {},
   "outputs": [
    {
     "data": {
      "image/png": "[encoded data removed]",
      "text/plain": [
       "<Figure size 432x288 with 1 Axes>"
      ]
     },
     "metadata": {
      "needs_background": "light"
     },
     "output_type": "display_data"
    }
   ],
   "source": [
    "plot_sim_dist_df = dRNA_dist_df[dRNA_dist_df['Isoform_len'] == selected_isoform_len]\n",
    "plot_sim_dist_df = plot_sim_dist_df.sort_values(by='5_end_distance')\n",
    "fig,ax = plt.subplots()\n",
    "ct = 0\n",
    "for _,row in plot_sim_dist_df.iterrows():\n",
    "    ax.hlines(y=ct, xmin=row['5_end_distance'], xmax= row['Isoform_len'] - row['3_end_distance'], linewidth=1, color='r')\n",
    "    ct += 1"
   ]
  },
  {
   "cell_type": "code",
   "execution_count": 69,
   "id": "27f2cff4",
   "metadata": {},
   "outputs": [
    {
     "data": {
      "image/png": "[encoded data removed]",
      "text/plain": [
       "<Figure size 432x288 with 1 Axes>"
      ]
     },
     "metadata": {
      "needs_background": "light"
     },
     "output_type": "display_data"
    }
   ],
   "source": [
    "plot_real_dist_df = real_data_dRNA_dist_df[real_data_dRNA_dist_df['Isoform_len'] == selected_isoform_len]\n",
    "plot_real_dist_df = plot_real_dist_df.sort_values(by='5_end_distance')\n",
    "fig,ax = plt.subplots()\n",
    "ct = 0\n",
    "for _,row in plot_real_dist_df.iterrows():\n",
    "    ax.hlines(y=ct, xmin=row['5_end_distance'], xmax= row['Isoform_len'] - row['3_end_distance'], linewidth=1, color='r')\n",
    "    ct += 1"
   ]
  },
  {
   "cell_type": "code",
   "execution_count": 70,
   "id": "56439c50",
   "metadata": {},
   "outputs": [],
   "source": [
    "selected_isoform_len = 1542"
   ]
  },
  {
   "cell_type": "code",
   "execution_count": 71,
   "id": "efb02af1",
   "metadata": {},
   "outputs": [
    {
     "data": {
      "image/png": "[encoded data removed]",
      "text/plain": [
       "<Figure size 432x288 with 1 Axes>"
      ]
     },
     "metadata": {
      "needs_background": "light"
     },
     "output_type": "display_data"
    }
   ],
   "source": [
    "plot_sim_dist_df = dRNA_dist_df[dRNA_dist_df['Isoform_len'] == selected_isoform_len]\n",
    "plot_sim_dist_df = plot_sim_dist_df.sort_values(by='5_end_distance')\n",
    "fig,ax = plt.subplots()\n",
    "ct = 0\n",
    "for _,row in plot_sim_dist_df.iterrows():\n",
    "    ax.hlines(y=ct, xmin=row['5_end_distance'], xmax= row['Isoform_len'] - row['3_end_distance'], linewidth=1, color='r')\n",
    "    ct += 1"
   ]
  },
  {
   "cell_type": "code",
   "execution_count": 72,
   "id": "1f035036",
   "metadata": {},
   "outputs": [
    {
     "data": {
      "image/png": "[encoded data removed]",
      "text/plain": [
       "<Figure size 432x288 with 1 Axes>"
      ]
     },
     "metadata": {
      "needs_background": "light"
     },
     "output_type": "display_data"
    }
   ],
   "source": [
    "plot_real_dist_df = real_data_dRNA_dist_df[real_data_dRNA_dist_df['Isoform_len'] == selected_isoform_len]\n",
    "plot_real_dist_df = plot_real_dist_df.sort_values(by='5_end_distance')\n",
    "fig,ax = plt.subplots()\n",
    "ct = 0\n",
    "for _,row in plot_real_dist_df.iterrows():\n",
    "    ax.hlines(y=ct, xmin=row['5_end_distance'], xmax= row['Isoform_len'] - row['3_end_distance'], linewidth=1, color='r')\n",
    "    ct += 1"
   ]
  },
  {
   "cell_type": "code",
   "execution_count": 77,
   "id": "1c5c2a17",
   "metadata": {},
   "outputs": [],
   "source": [
    "selected_isoform_len = 3228"
   ]
  },
  {
   "cell_type": "code",
   "execution_count": 78,
   "id": "eefa65eb",
   "metadata": {},
   "outputs": [
    {
     "data": {
      "image/png": "[encoded data removed]",
      "text/plain": [
       "<Figure size 432x288 with 1 Axes>"
      ]
     },
     "metadata": {
      "needs_background": "light"
     },
     "output_type": "display_data"
    }
   ],
   "source": [
    "plot_sim_dist_df = dRNA_dist_df[dRNA_dist_df['Isoform_len'] == selected_isoform_len]\n",
    "plot_sim_dist_df = plot_sim_dist_df.sort_values(by='5_end_distance')\n",
    "fig,ax = plt.subplots()\n",
    "ct = 0\n",
    "for _,row in plot_sim_dist_df.iterrows():\n",
    "    ax.hlines(y=ct, xmin=row['5_end_distance'], xmax= row['Isoform_len'] - row['3_end_distance'], linewidth=1, color='r')\n",
    "    ct += 1"
   ]
  },
  {
   "cell_type": "code",
   "execution_count": 85,
   "id": "14c55ec3",
   "metadata": {},
   "outputs": [],
   "source": [
    "plot_real_dist_df = real_data_dRNA_dist_df[real_data_dRNA_dist_df['Isoform_len'] == selected_isoform_len]\n",
    "plot_real_dist_df = plot_real_dist_df.sample(n=500, random_state=1).sort_values(by='5_end_distance')"
   ]
  },
  {
   "cell_type": "code",
   "execution_count": 86,
   "id": "f6f9bced",
   "metadata": {},
   "outputs": [
    {
     "data": {
      "image/png": "[encoded data removed]",
      "text/plain": [
       "<Figure size 432x288 with 1 Axes>"
      ]
     },
     "metadata": {
      "needs_background": "light"
     },
     "output_type": "display_data"
    }
   ],
   "source": [
    "fig,ax = plt.subplots()\n",
    "ct = 0\n",
    "for _,row in plot_real_dist_df.iterrows():\n",
    "    ax.hlines(y=ct, xmin=row['5_end_distance'], xmax= row['Isoform_len'] - row['3_end_distance'], linewidth=1, color='r')\n",
    "    ct += 1"
   ]
  },
  {
   "cell_type": "code",
   "execution_count": null,
   "id": "ca223bae",
   "metadata": {},
   "outputs": [],
   "source": []
  }
 ],
 "metadata": {
  "kernelspec": {
   "display_name": "jupnb",
   "language": "python",
   "name": "jupnb"
  },
  "language_info": {
   "codemirror_mode": {
    "name": "ipython",
    "version": 3
   },
   "file_extension": ".py",
   "mimetype": "text/x-python",
   "name": "python",
   "nbconvert_exporter": "python",
   "pygments_lexer": "ipython3",
   "version": "3.6.13"
  }
 },
 "nbformat": 4,
 "nbformat_minor": 5
}
